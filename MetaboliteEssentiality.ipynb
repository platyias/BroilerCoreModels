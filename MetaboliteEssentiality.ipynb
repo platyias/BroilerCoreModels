{
 "cells": [
  {
   "cell_type": "code",
   "execution_count": 11,
   "metadata": {},
   "outputs": [],
   "source": [
    "import cobra\n",
    "from cobra import Model, Reaction, Metabolite\n",
    "import pandas as pd\n",
    "import re\n",
    "import copy\n",
    "import numpy as np"
   ]
  },
  {
   "cell_type": "code",
   "execution_count": 2,
   "metadata": {},
   "outputs": [],
   "source": [
    "core=pd.read_csv('ModelList.txt', sep=\"\\t\", index_col=0, header=None)\n",
    "for i in core.index:\n",
    "    core.rename(index={i:re.sub('\\.xml','',i)}, inplace=True)\n",
    "genera=core.index"
   ]
  },
  {
   "cell_type": "code",
   "execution_count": 17,
   "metadata": {},
   "outputs": [],
   "source": [
    "def open_model (modelfile):\n",
    "    model = cobra.io.read_sbml_model(modelfile)\n",
    "    model.solver='glpk'\n",
    "    return model"
   ]
  },
  {
   "cell_type": "code",
   "execution_count": 31,
   "metadata": {},
   "outputs": [],
   "source": [
    "def get_essentiality (model, samples, pinEX, pinALL):\n",
    "    \n",
    "    #close all exchanges\n",
    "    with_ex={}\n",
    "    xch=[]\n",
    "    complete_media=[]\n",
    "    cm=[]\n",
    "    met_name=[]\n",
    "    for e in model.reactions:\n",
    "        if re.search('EX_',e.id):\n",
    "            complete_media.append(e)\n",
    "            \n",
    "            cpd=e.id\n",
    "            cpd=re.sub('EX_','',cpd)\n",
    "            met_name.append(model.metabolites.get_by_id(cpd).name)\n",
    "            cpd=re.sub(\"_\\w0\",'',cpd)\n",
    "            cm.append(cpd)\n",
    "            \n",
    "            with_ex[cpd]=e;\n",
    "            e.lower_bound=0\n",
    "            xch.append(e)\n",
    "            \n",
    "    \n",
    "    #add_exchanges for every metabolite\n",
    "    for m in model.metabolites:\n",
    "        cpd=re.sub(\"_\\w0\",'',m.id)\n",
    "        if cpd in with_ex:\n",
    "            continue\n",
    "        newex='EX_'+m.id\n",
    "        reaction=Reaction(newex)\n",
    "        reaction.name=m.id+' exchange'\n",
    "        reaction.subsystem=''\n",
    "        reaction.lower_bound=0\n",
    "        reaction.upper_bound=0\n",
    "        reaction.gene_reaction_rule='Unknown'\n",
    "        model.add_reactions([reaction])\n",
    "        reaction.add_metabolites({m:-1})\n",
    "        xch.append(reaction)\n",
    "    \n",
    "    #allow export of metabolites with exchanges\n",
    "    for e in with_ex:\n",
    "        with_ex[e].upper_bound=1000\n",
    "        \n",
    "    #Ensure at least x biomass is produced\n",
    "    model.reactions.biomass1.lower_bound=0.01\n",
    "    \n",
    "\n",
    "    count=0\n",
    "    results=pd.DataFrame(index=list(with_ex.keys()), columns=['essential', 'counts','p_essential','name'], \n",
    "                         data=np.zeros((len(with_ex.keys()),4)))\n",
    "    results.loc[:,'name']=met_name\n",
    "    \n",
    "    #test essentiality of each metabolite under a specified number of random media compositions\n",
    "    \n",
    "    while count < samples:\n",
    "        \n",
    "        #define random media (metabolites without exchanges)\n",
    "        lower_bounds=(np.random.rand(len(xch))<=pinALL).astype(int)*-1000\n",
    "        for e in range(len(xch)):\n",
    "            xch[e].lower_bound=lower_bounds[e]    \n",
    "        \n",
    "        #define random media (metabolites with exchanges)\n",
    "        lower_bounds=(np.random.rand(len(complete_media))<=pinEX).astype(int)*-1000\n",
    "        present=[]\n",
    "        for e in range(len(complete_media)):\n",
    "            complete_media[e].lower_bound=lower_bounds[e]\n",
    "            if lower_bounds[e]<0:\n",
    "                present.append(cm[e])\n",
    "        \n",
    "        #nblock biomass uptake        \n",
    "        model.reactions.EX_cpd11416_c0.lower_bound=0\n",
    "        \n",
    "        #test media viability\n",
    "        try: #do parsimonious fba\n",
    "            solution=cobra.flux_analysis.pfba(model)\n",
    "        except:\n",
    "            continue\n",
    "        if solution.status=='infeasible':\n",
    "            continue\n",
    "        count+=1\n",
    "        results.loc[present,'counts']+=1\n",
    "        \n",
    "        # evaluate metabolite essentiality on viable media\n",
    "        for exchr in present:\n",
    "            #close uptake\n",
    "            with_ex[exchr].lower_bound=0\n",
    "            try: #do parsimonious fba\n",
    "                solution=cobra.flux_analysis.pfba(model)\n",
    "            except:\n",
    "                results.loc[exchr,'essential']+=1\n",
    "                with_ex[exchr].lower_bound=-1000\n",
    "                continue\n",
    "            if solution.status=='infeasible':\n",
    "                results.loc[exchr,'essential']+=1\n",
    "            with_ex[exchr].lower_bound=-1000\n",
    "        print(count)\n",
    "    results.loc[:,'p_essential']=(results.essential/results.counts).values\n",
    "    return results"
   ]
  },
  {
   "cell_type": "code",
   "execution_count": 32,
   "metadata": {},
   "outputs": [],
   "source": [
    "#probability that metabolites with exchange reactions are available in random media\n",
    "pinEX=0.9\n",
    "#probability that metabolites without exchange reactions are available in random media\n",
    "pinALL=0\n",
    "#number of viable random media to test\n",
    "nsamples=10"
   ]
  },
  {
   "cell_type": "code",
   "execution_count": null,
   "metadata": {},
   "outputs": [],
   "source": [
    "#run for first model\n",
    "query=genera[1]\n",
    "modelfile=query+'.xml'\n",
    "model=open_model(modelfile)\n",
    "R=get_essentiality(model, nsamples, pinEX, pinALL)"
   ]
  },
  {
   "cell_type": "code",
   "execution_count": 36,
   "metadata": {},
   "outputs": [],
   "source": [
    "# save output\n",
    "outname=query+'.essentiality.'+str(nsamples)+'.'+str(pinEX)+'_'+str(pinALL)+'.txt'\n",
    "R.to_csv(outname, sep =\"\\t\")"
   ]
  }
 ],
 "metadata": {
  "kernelspec": {
   "display_name": "Python 3",
   "language": "python",
   "name": "python3"
  },
  "language_info": {
   "codemirror_mode": {
    "name": "ipython",
    "version": 3
   },
   "file_extension": ".py",
   "mimetype": "text/x-python",
   "name": "python",
   "nbconvert_exporter": "python",
   "pygments_lexer": "ipython3",
   "version": "3.8.3"
  }
 },
 "nbformat": 4,
 "nbformat_minor": 4
}
