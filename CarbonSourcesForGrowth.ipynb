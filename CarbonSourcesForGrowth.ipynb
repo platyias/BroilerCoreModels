{
 "cells": [
  {
   "cell_type": "code",
   "execution_count": 1,
   "metadata": {},
   "outputs": [],
   "source": [
    "import cobra\n",
    "import pandas as pd\n",
    "import re\n",
    "import copy"
   ]
  },
  {
   "cell_type": "code",
   "execution_count": 5,
   "metadata": {},
   "outputs": [],
   "source": [
    "core=pd.read_csv('ModelList.txt', sep=\"\\t\", index_col=0, header=None)\n",
    "for i in core.index:\n",
    "    core.rename(index={i:re.sub('\\.xml','',i)}, inplace=True)\n",
    "genera=core.index"
   ]
  },
  {
   "cell_type": "code",
   "execution_count": 14,
   "metadata": {},
   "outputs": [],
   "source": [
    "RESULT=pd.DataFrame(columns=genera)"
   ]
  },
  {
   "cell_type": "code",
   "execution_count": null,
   "metadata": {},
   "outputs": [],
   "source": [
    "#Test all C sources for every model\n",
    "for g in genera:\n",
    "    #load model\n",
    "    model=cobra.io.read_sbml_model(g+'.xml')\n",
    "    model.solver='glpk'\n",
    "    #Count C in formula\n",
    "    C_exch={}\n",
    "    for i in model.metabolites:\n",
    "        if isinstance(i.formula, str):\n",
    "            if re.search ('C[^a-z]', i.formula):\n",
    "                for r in i.reactions:\n",
    "                    if re.search ('EX_',r.id):\n",
    "                        C_exch[r.id]=i.formula\n",
    "    for i in list(C_exch.keys()):\n",
    "        if re.search('C\\d+',C_exch[i]):\n",
    "            p = re.compile('C(\\d+)')\n",
    "            C_exch[i]=p.findall(C_exch[i])[0]\n",
    "        else:\n",
    "             C_exch[i]=1\n",
    "    \n",
    "    #constraint C uptake\n",
    "    coefficients=dict()\n",
    "    model2=copy.deepcopy(model)\n",
    "    for r in C_exch:\n",
    "        coefficients[model2.reactions.get_by_id(r).reverse_variable] = C_exch[r]\n",
    "    constraint=model2.problem.Constraint(0,lb=0,ub=10)\n",
    "    model2.add_cons_vars(constraint)\n",
    "    model2.solver.update()\n",
    "    constraint.set_linear_coefficients(coefficients=coefficients)\n",
    "    ref=model2.slim_optimize()\n",
    "    \n",
    "    #test ability to use compounds as C sources\n",
    "    Csources=[]\n",
    "    for n in C_exch:\n",
    "        coeffs=copy.deepcopy(coefficients)\n",
    "        model2=copy.deepcopy(model)\n",
    "        coefficients[model2.reactions.get_by_id(n).reverse_variable]=0\n",
    "        constraint=model2.problem.Constraint(0,lb=0,ub=10)\n",
    "        model2.add_cons_vars(constraint)\n",
    "        model2.solver.update()\n",
    "        constraint.set_linear_coefficients(coefficients=coeffs)\n",
    "        if model2.slim_optimize()>ref*2:\n",
    "            for m in model.reactions.get_by_id(n).metabolites:\n",
    "                mname=m.name\n",
    "            Csources.append(mname)\n",
    "    for n in Csources:\n",
    "        RESULT.loc[n,g]=1\n",
    "    #update output file\n",
    "    RESULT.to_csv('C_sourcesGrowth_10mm.txt', sep=\"\\t\")\n",
    "    print(g)\n",
    "    #break"
   ]
  },
  {
   "cell_type": "code",
   "execution_count": null,
   "metadata": {},
   "outputs": [],
   "source": []
  }
 ],
 "metadata": {
  "kernelspec": {
   "display_name": "Python 3",
   "language": "python",
   "name": "python3"
  },
  "language_info": {
   "codemirror_mode": {
    "name": "ipython",
    "version": 3
   },
   "file_extension": ".py",
   "mimetype": "text/x-python",
   "name": "python",
   "nbconvert_exporter": "python",
   "pygments_lexer": "ipython3",
   "version": "3.8.3"
  }
 },
 "nbformat": 4,
 "nbformat_minor": 2
}
